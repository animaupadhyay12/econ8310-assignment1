{
  "nbformat": 4,
  "nbformat_minor": 0,
  "metadata": {
    "colab": {
      "provenance": []
    },
    "kernelspec": {
      "name": "python3",
      "display_name": "Python 3"
    },
    "language_info": {
      "name": "python"
    }
  },
  "cells": [
    {
      "cell_type": "code",
      "execution_count": 3,
      "metadata": {
        "colab": {
          "base_uri": "https://localhost:8080/"
        },
        "id": "Dv_ipHV53uBp",
        "outputId": "51c9698f-7f5b-4bef-d15c-9d832ace3e21"
      },
      "outputs": [
        {
          "output_type": "stream",
          "name": "stderr",
          "text": [
            "<ipython-input-3-49193d6118e3>:8: UserWarning: Could not infer format, so each element will be parsed individually, falling back to `dateutil`. To ensure parsing is consistent and as-expected, please specify a format.\n",
            "  train_df = pd.read_csv(train_file_path, parse_dates=['Timestamp'], index_col='Timestamp')\n",
            "<ipython-input-3-49193d6118e3>:9: UserWarning: Could not infer format, so each element will be parsed individually, falling back to `dateutil`. To ensure parsing is consistent and as-expected, please specify a format.\n",
            "  test_df = pd.read_csv(test_file_path, parse_dates=['Timestamp'], index_col='Timestamp')\n",
            "/usr/local/lib/python3.11/dist-packages/statsmodels/tsa/base/tsa_model.py:473: ValueWarning: No frequency information was provided, so inferred frequency h will be used.\n",
            "  self._init_dates(dates, freq)\n"
          ]
        },
        {
          "output_type": "stream",
          "name": "stdout",
          "text": [
            "2019-01-01 00:00:00    5580.753725\n",
            "2019-01-01 01:00:00    4052.064483\n",
            "2019-01-01 02:00:00    3682.108040\n",
            "2019-01-01 03:00:00    3508.447001\n",
            "2019-01-01 04:00:00    3618.872285\n",
            "Freq: h, dtype: float64\n"
          ]
        },
        {
          "output_type": "stream",
          "name": "stderr",
          "text": [
            "/usr/local/lib/python3.11/dist-packages/statsmodels/tsa/holtwinters/model.py:918: ConvergenceWarning: Optimization failed to converge. Check mle_retvals.\n",
            "  warnings.warn(\n"
          ]
        }
      ],
      "source": [
        "import pandas as pd\n",
        "from statsmodels.tsa.holtwinters import ExponentialSmoothing\n",
        "\n",
        "# Load the datasets\n",
        "train_file_path = \"/content/assignment_data_train.csv\"\n",
        "test_file_path = \"/content/assignment_data_test.csv\"\n",
        "\n",
        "train_df = pd.read_csv(train_file_path, parse_dates=['Timestamp'], index_col='Timestamp')\n",
        "test_df = pd.read_csv(test_file_path, parse_dates=['Timestamp'], index_col='Timestamp')\n",
        "\n",
        "# Fit the Exponential Smoothing model\n",
        "model = ExponentialSmoothing(\n",
        "    train_df['trips'],\n",
        "    trend='add',\n",
        "    seasonal='add',\n",
        "    seasonal_periods=24  # Daily seasonality\n",
        ")\n",
        "\n",
        "modelFit = model.fit()\n",
        "\n",
        "# Forecast for 744 hours\n",
        "pred = modelFit.forecast(steps=744)\n",
        "\n",
        "# Save predictions to a CSV file\n",
        "pred.to_csv(\"forecast_results.csv\", header=['predicted_trips'])\n",
        "\n",
        "# Print first few forecasted values\n",
        "print(pred.head())\n"
      ]
    }
  ]
}