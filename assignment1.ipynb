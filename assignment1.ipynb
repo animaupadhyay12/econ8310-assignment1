{
  "cells": [
    {
      "cell_type": "code",
      "execution_count": 22,
      "metadata": {
        "colab": {
          "base_uri": "https://localhost:8080/"
        },
        "id": "kLtSNxrf6-sp",
        "outputId": "3b0b3303-5266-4d94-ffb8-3702b8b0c405"
      },
      "outputs": [
        {
          "output_type": "stream",
          "name": "stdout",
          "text": [
            "                       ExponentialSmoothing Model Results                       \n",
            "================================================================================\n",
            "Dep. Variable:                    trips   No. Observations:                 8760\n",
            "Model:             ExponentialSmoothing   SSE                    18226127267.616\n",
            "Optimized:                         True   AIC                         127497.976\n",
            "Trend:                         Additive   BIC                         127696.159\n",
            "Seasonal:                      Additive   AICC                        127498.189\n",
            "Seasonal Periods:                    24   Date:                 Mon, 17 Feb 2025\n",
            "Box-Cox:                          False   Time:                         21:25:34\n",
            "Box-Cox Coeff.:                    None                                         \n",
            "=================================================================================\n",
            "                          coeff                 code              optimized      \n",
            "---------------------------------------------------------------------------------\n",
            "smoothing_level               0.9950000                alpha                 True\n",
            "smoothing_trend               0.8173214                 beta                 True\n",
            "smoothing_seasonal            0.0025000                gamma                 True\n",
            "initial_level                 8897.5472                  l.0                 True\n",
            "initial_trend                -166.20859                  b.0                 True\n",
            "initial_seasons.0            -4392.9787                  s.0                 True\n",
            "initial_seasons.1            -6335.2131                  s.1                 True\n",
            "initial_seasons.2            -7205.6923                  s.2                 True\n",
            "initial_seasons.3            -7631.8381                  s.3                 True\n",
            "initial_seasons.4            -7461.3485                  s.4                 True\n",
            "initial_seasons.5            -6244.8902                  s.5                 True\n",
            "initial_seasons.6            -2313.0308                  s.6                 True\n",
            "initial_seasons.7             1356.9588                  s.7                 True\n",
            "initial_seasons.8             3509.6567                  s.8                 True\n",
            "initial_seasons.9             2894.0421                  s.9                 True\n",
            "initial_seasons.10            1812.6619                 s.10                 True\n",
            "initial_seasons.11            1611.9692                 s.11                 True\n",
            "initial_seasons.12            2025.9952                 s.12                 True\n",
            "initial_seasons.13            2441.1150                 s.13                 True\n",
            "initial_seasons.14            3222.6671                 s.14                 True\n",
            "initial_seasons.15            3504.5213                 s.15                 True\n",
            "initial_seasons.16            3221.0421                 s.16                 True\n",
            "initial_seasons.17            4597.0161                 s.17                 True\n",
            "initial_seasons.18            5457.0161                 s.18                 True\n",
            "initial_seasons.19            3907.2661                 s.19                 True\n",
            "initial_seasons.20            2013.9692                 s.20                 True\n",
            "initial_seasons.21            1714.0056                 s.21                 True\n",
            "initial_seasons.22            626.62023                 s.22                 True\n",
            "initial_seasons.23           -2331.5308                 s.23                 True\n",
            "---------------------------------------------------------------------------------\n"
          ]
        },
        {
          "output_type": "stream",
          "name": "stderr",
          "text": [
            "/usr/local/lib/python3.11/dist-packages/statsmodels/tsa/holtwinters/model.py:918: ConvergenceWarning: Optimization failed to converge. Check mle_retvals.\n",
            "  warnings.warn(\n"
          ]
        }
      ],
      "source": [
        "import pandas as pd\n",
        "import statsmodels.api as sm\n",
        "from statsmodels.tsa.holtwinters import ExponentialSmoothing\n",
        "\n",
        "# Load the training and test data\n",
        "train = pd.read_csv('/assignment_data_train.csv')\n",
        "test = pd.read_csv('/assignment_data_train.csv')\n",
        "\n",
        "# Remove timestamp column (not needed for forecasting)\n",
        "if 'Timestamp' in train.columns:\n",
        "    train = train.drop(columns=['Timestamp'])\n",
        "if 'Timestamp' in test.columns:\n",
        "    test = test.drop(columns=['Timestamp'])\n",
        "\n",
        "# Ensure all columns are numeric\n",
        "train = train.apply(pd.to_numeric, errors='coerce')\n",
        "test = test.apply(pd.to_numeric, errors='coerce')\n",
        "\n",
        "# Drop any missing values\n",
        "train = train.dropna()\n",
        "test = test.dropna()\n",
        "\n",
        "# Target variable (trips)\n",
        "y_train = train['trips']\n",
        "\n",
        "# Fit the Exponential Smoothing model\n",
        "model = ExponentialSmoothing(y_train, trend='add', seasonal='add', seasonal_periods=24)\n",
        "modelFit = model.fit()\n",
        "\n",
        "# Forecast for 744 hours (one month of hourly data)\n",
        "pred = modelFit.forecast(steps=744)\n",
        "\n",
        "# Convert predictions to DataFrame\n",
        "pred_df = pd.DataFrame(pred, columns=['trips'])\n",
        "\n",
        "# Print model summary\n",
        "print(modelFit.summary())\n",
        "\n"
      ]
    },
    {
      "cell_type": "code",
      "source": [],
      "metadata": {
        "colab": {
          "base_uri": "https://localhost:8080/"
        },
        "id": "aGk2XEc9o7uw",
        "outputId": "63921c5c-d40f-4a08-c347-f4713aad3042"
      },
      "execution_count": 21,
      "outputs": [
        {
          "output_type": "stream",
          "name": "stdout",
          "text": [
            "Requirement already satisfied: pygam in /usr/local/lib/python3.11/dist-packages (0.9.1)\n",
            "Requirement already satisfied: numpy>=1.25 in /usr/local/lib/python3.11/dist-packages (from pygam) (1.26.4)\n",
            "Requirement already satisfied: progressbar2<5.0.0,>=4.2.0 in /usr/local/lib/python3.11/dist-packages (from pygam) (4.5.0)\n",
            "Requirement already satisfied: scipy<1.12,>=1.11.1 in /usr/local/lib/python3.11/dist-packages (from pygam) (1.11.4)\n",
            "Requirement already satisfied: python-utils>=3.8.1 in /usr/local/lib/python3.11/dist-packages (from progressbar2<5.0.0,>=4.2.0->pygam) (3.9.1)\n",
            "Requirement already satisfied: typing_extensions>3.10.0.2 in /usr/local/lib/python3.11/dist-packages (from python-utils>=3.8.1->progressbar2<5.0.0,>=4.2.0->pygam) (4.12.2)\n",
            "Requirement already satisfied: prophet in /usr/local/lib/python3.11/dist-packages (1.1.6)\n",
            "Requirement already satisfied: cmdstanpy>=1.0.4 in /usr/local/lib/python3.11/dist-packages (from prophet) (1.2.5)\n",
            "Requirement already satisfied: numpy>=1.15.4 in /usr/local/lib/python3.11/dist-packages (from prophet) (1.26.4)\n",
            "Requirement already satisfied: matplotlib>=2.0.0 in /usr/local/lib/python3.11/dist-packages (from prophet) (3.10.0)\n",
            "Requirement already satisfied: pandas>=1.0.4 in /usr/local/lib/python3.11/dist-packages (from prophet) (2.2.2)\n",
            "Requirement already satisfied: holidays<1,>=0.25 in /usr/local/lib/python3.11/dist-packages (from prophet) (0.66)\n",
            "Requirement already satisfied: tqdm>=4.36.1 in /usr/local/lib/python3.11/dist-packages (from prophet) (4.67.1)\n",
            "Requirement already satisfied: importlib-resources in /usr/local/lib/python3.11/dist-packages (from prophet) (6.5.2)\n",
            "Requirement already satisfied: stanio<2.0.0,>=0.4.0 in /usr/local/lib/python3.11/dist-packages (from cmdstanpy>=1.0.4->prophet) (0.5.1)\n",
            "Requirement already satisfied: python-dateutil in /usr/local/lib/python3.11/dist-packages (from holidays<1,>=0.25->prophet) (2.8.2)\n",
            "Requirement already satisfied: contourpy>=1.0.1 in /usr/local/lib/python3.11/dist-packages (from matplotlib>=2.0.0->prophet) (1.3.1)\n",
            "Requirement already satisfied: cycler>=0.10 in /usr/local/lib/python3.11/dist-packages (from matplotlib>=2.0.0->prophet) (0.12.1)\n",
            "Requirement already satisfied: fonttools>=4.22.0 in /usr/local/lib/python3.11/dist-packages (from matplotlib>=2.0.0->prophet) (4.56.0)\n",
            "Requirement already satisfied: kiwisolver>=1.3.1 in /usr/local/lib/python3.11/dist-packages (from matplotlib>=2.0.0->prophet) (1.4.8)\n",
            "Requirement already satisfied: packaging>=20.0 in /usr/local/lib/python3.11/dist-packages (from matplotlib>=2.0.0->prophet) (24.2)\n",
            "Requirement already satisfied: pillow>=8 in /usr/local/lib/python3.11/dist-packages (from matplotlib>=2.0.0->prophet) (11.1.0)\n",
            "Requirement already satisfied: pyparsing>=2.3.1 in /usr/local/lib/python3.11/dist-packages (from matplotlib>=2.0.0->prophet) (3.2.1)\n",
            "Requirement already satisfied: pytz>=2020.1 in /usr/local/lib/python3.11/dist-packages (from pandas>=1.0.4->prophet) (2025.1)\n",
            "Requirement already satisfied: tzdata>=2022.7 in /usr/local/lib/python3.11/dist-packages (from pandas>=1.0.4->prophet) (2025.1)\n",
            "Requirement already satisfied: six>=1.5 in /usr/local/lib/python3.11/dist-packages (from python-dateutil->holidays<1,>=0.25->prophet) (1.17.0)\n"
          ]
        }
      ]
    }
  ],
  "metadata": {
    "kernelspec": {
      "display_name": "Python 3",
      "language": "python",
      "name": "python3"
    },
    "language_info": {
      "codemirror_mode": {
        "name": "ipython",
        "version": 3
      },
      "file_extension": ".py",
      "mimetype": "text/x-python",
      "name": "python",
      "nbconvert_exporter": "python",
      "pygments_lexer": "ipython3",
      "version": "3.12.6"
    },
    "colab": {
      "provenance": []
    }
  },
  "nbformat": 4,
  "nbformat_minor": 0
}