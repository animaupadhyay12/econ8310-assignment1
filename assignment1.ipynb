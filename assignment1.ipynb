{
  "nbformat": 4,
  "nbformat_minor": 0,
  "metadata": {
    "colab": {
      "provenance": []
    },
    "kernelspec": {
      "name": "python3",
      "display_name": "Python 3"
    },
    "language_info": {
      "name": "python"
    }
  },
  "cells": [
    {
      "cell_type": "code",
      "execution_count": 31,
      "metadata": {
        "colab": {
          "base_uri": "https://localhost:8080/"
        },
        "id": "Dv_ipHV53uBp",
        "outputId": "61b22d2d-873a-40d4-9ef8-6d7660fb1004"
      },
      "outputs": [
        {
          "output_type": "stream",
          "name": "stdout",
          "text": [
            "                            OLS Regression Results                            \n",
            "==============================================================================\n",
            "Dep. Variable:                  trips   R-squared:                       0.486\n",
            "Model:                            OLS   Adj. R-squared:                  0.486\n",
            "Method:                 Least Squares   F-statistic:                     2765.\n",
            "Date:                Mon, 17 Feb 2025   Prob (F-statistic):               0.00\n",
            "Time:                        04:46:36   Log-Likelihood:                -85116.\n",
            "No. Observations:                8760   AIC:                         1.702e+05\n",
            "Df Residuals:                    8756   BIC:                         1.703e+05\n",
            "Df Model:                           3                                         \n",
            "Covariance Type:            nonrobust                                         \n",
            "==============================================================================\n",
            "                 coef    std err          t      P>|t|      [0.025      0.975]\n",
            "------------------------------------------------------------------------------\n",
            "year           3.2348      0.069     47.062      0.000       3.100       3.370\n",
            "month       -145.9707     12.442    -11.733      0.000    -170.359    -121.582\n",
            "day          -17.1763      4.877     -3.522      0.000     -26.736      -7.617\n",
            "hour         559.1670      6.197     90.239      0.000     547.020     571.314\n",
            "==============================================================================\n",
            "Omnibus:                      165.415   Durbin-Watson:                   0.524\n",
            "Prob(Omnibus):                  0.000   Jarque-Bera (JB):              150.547\n",
            "Skew:                          -0.274   Prob(JB):                     2.04e-33\n",
            "Kurtosis:                       2.664   Cond. No.                         585.\n",
            "==============================================================================\n",
            "\n",
            "Notes:\n",
            "[1] Standard Errors assume that the covariance matrix of the errors is correctly specified.\n"
          ]
        }
      ],
      "source": [
        "import pandas as pd\n",
        "import statsmodels.api as sm\n",
        "\n",
        "# Load datasets\n",
        "train = pd.read_csv(\"assignment_data_train.csv\")\n",
        "test = pd.read_csv(\"assignment_data_test.csv\")\n",
        "\n",
        "# Define dependent variable (target)\n",
        "y = train[['trips']]\n",
        "\n",
        "# Define independent variables (features)\n",
        "x = train.drop(['trips', 'Timestamp'], axis=1)  # Keep all predictors\n",
        "x = sm.add_constant(x)  # Add intercept term\n",
        "\n",
        "# Fit OLS model\n",
        "model = sm.OLS(endog=y, exog=x)\n",
        "modelFit = model.fit()\n",
        "\n",
        "# Prepare test data\n",
        "x_test = test.drop(['Timestamp'], axis=1)  # Ensure same structure as x\n",
        "x_test = sm.add_constant(x_test)  # Add intercept\n",
        "\n",
        "# Generate predictions for 744 hours\n",
        "pred = modelFit.predict(x_test)\n",
        "\n",
        "# Save predictions to CSV\n",
        "pred.to_csv(\"forecast_results.csv\", header=['predicted_trips'])\n",
        "\n",
        "# Print model summary\n",
        "print(modelFit.summary())\n"
      ]
    },
    {
      "cell_type": "code",
      "source": [
        "from google.colab import drive\n",
        "drive.mount('/content/drive')\n"
      ],
      "metadata": {
        "colab": {
          "base_uri": "https://localhost:8080/"
        },
        "id": "k4GrB-QlIQ4S",
        "outputId": "7ed3edc0-1f41-4402-e5ef-f6ccf4457eac"
      },
      "execution_count": 35,
      "outputs": [
        {
          "output_type": "stream",
          "name": "stdout",
          "text": [
            "Drive already mounted at /content/drive; to attempt to forcibly remount, call drive.mount(\"/content/drive\", force_remount=True).\n"
          ]
        }
      ]
    },
    {
      "cell_type": "code",
      "source": [
        "!python /content/drive/MyDrive/Colab\\ Notebooks/assignment1.py\n"
      ],
      "metadata": {
        "id": "Tp_B17LhIrgu"
      },
      "execution_count": 34,
      "outputs": []
    },
    {
      "cell_type": "code",
      "source": [],
      "metadata": {
        "id": "_Ld8fHYSImHT"
      },
      "execution_count": 29,
      "outputs": []
    }
  ]
}